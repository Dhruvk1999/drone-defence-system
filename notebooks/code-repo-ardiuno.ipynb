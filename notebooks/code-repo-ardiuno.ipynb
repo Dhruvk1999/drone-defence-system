{
 "cells": [
  {
   "cell_type": "markdown",
   "id": "d19b307f",
   "metadata": {},
   "source": [
    "## References\n",
    "<a href=\"https://create.arduino.cc/projecthub/WolfxPac/face-tracking-using-arduino-b35b6b\">Arduino.cc - complete guide</a>"
   ]
  },
  {
   "cell_type": "markdown",
   "id": "129d2a43",
   "metadata": {},
   "source": [
    "## Python part"
   ]
  },
  {
   "cell_type": "code",
   "execution_count": 1,
   "id": "25ca419a",
   "metadata": {},
   "outputs": [
    {
     "name": "stdout",
     "output_type": "stream",
     "text": [
      "/home/dhruv\n"
     ]
    }
   ],
   "source": [
    "cd "
   ]
  },
  {
   "cell_type": "code",
   "execution_count": 1,
   "id": "3ef6c193",
   "metadata": {},
   "outputs": [],
   "source": [
    "import cv2\n",
    "\n",
    "cap = cv2.VideoCapture(0)\n",
    "\n",
    "# Automatically grab width and height from video feed\n",
    "# (returns float which we need to convert to integer for later on!)\n",
    "width = int(cap.get(cv2.CAP_PROP_FRAME_WIDTH))\n",
    "height = int(cap.get(cv2.CAP_PROP_FRAME_HEIGHT))\n",
    "\n",
    "while True:\n",
    "    # Capture frame-by-frame\n",
    "    ret, frame = cap.read()\n",
    "\n",
    "    # Display the resulting frame\n",
    "    cv2.imshow('frame',frame)\n",
    "    \n",
    "    # This command let's us quit with the \"q\" button on a keyboard.\n",
    "    # Simply pressing X on the window won't work!\n",
    "    if cv2.waitKey(1) & 0xFF == ord('q'):\n",
    "        break\n",
    "\n",
    "        \n",
    "cap.release()\n",
    "cv2.destroyAllWindows()"
   ]
  },
  {
   "cell_type": "code",
   "execution_count": 2,
   "id": "abf8bf9f",
   "metadata": {},
   "outputs": [
    {
     "name": "stderr",
     "output_type": "stream",
     "text": [
      "[ WARN:0@512.037] global /io/opencv/modules/videoio/src/cap_v4l.cpp (889) open VIDEOIO(V4L2:/dev/video0): can't open camera by index\n"
     ]
    },
    {
     "ename": "error",
     "evalue": "OpenCV(4.5.5) /io/opencv/modules/imgproc/src/color.cpp:182: error: (-215:Assertion failed) !_src.empty() in function 'cvtColor'\n",
     "output_type": "error",
     "traceback": [
      "\u001b[0;31m---------------------------------------------------------------------------\u001b[0m",
      "\u001b[0;31merror\u001b[0m                                     Traceback (most recent call last)",
      "\u001b[0;32m/tmp/ipykernel_2736/2819279974.py\u001b[0m in \u001b[0;36m<module>\u001b[0;34m\u001b[0m\n\u001b[1;32m     19\u001b[0m     \u001b[0mcv2\u001b[0m\u001b[0;34m.\u001b[0m\u001b[0mline\u001b[0m\u001b[0;34m(\u001b[0m\u001b[0mimg\u001b[0m\u001b[0;34m,\u001b[0m\u001b[0;34m(\u001b[0m\u001b[0;36m250\u001b[0m\u001b[0;34m,\u001b[0m\u001b[0;36m0\u001b[0m\u001b[0;34m)\u001b[0m\u001b[0;34m,\u001b[0m\u001b[0;34m(\u001b[0m\u001b[0;36m250\u001b[0m\u001b[0;34m,\u001b[0m\u001b[0;36m500\u001b[0m\u001b[0;34m)\u001b[0m\u001b[0;34m,\u001b[0m\u001b[0;34m(\u001b[0m\u001b[0;36m0\u001b[0m\u001b[0;34m,\u001b[0m\u001b[0;36m255\u001b[0m\u001b[0;34m,\u001b[0m\u001b[0;36m0\u001b[0m\u001b[0;34m)\u001b[0m\u001b[0;34m,\u001b[0m\u001b[0;36m1\u001b[0m\u001b[0;34m)\u001b[0m\u001b[0;34m\u001b[0m\u001b[0;34m\u001b[0m\u001b[0m\n\u001b[1;32m     20\u001b[0m     \u001b[0mcv2\u001b[0m\u001b[0;34m.\u001b[0m\u001b[0mcircle\u001b[0m\u001b[0;34m(\u001b[0m\u001b[0mimg\u001b[0m\u001b[0;34m,\u001b[0m \u001b[0;34m(\u001b[0m\u001b[0;36m250\u001b[0m\u001b[0;34m,\u001b[0m \u001b[0;36m250\u001b[0m\u001b[0;34m)\u001b[0m\u001b[0;34m,\u001b[0m \u001b[0;36m5\u001b[0m\u001b[0;34m,\u001b[0m \u001b[0;34m(\u001b[0m\u001b[0;36m255\u001b[0m\u001b[0;34m,\u001b[0m \u001b[0;36m255\u001b[0m\u001b[0;34m,\u001b[0m \u001b[0;36m255\u001b[0m\u001b[0;34m)\u001b[0m\u001b[0;34m,\u001b[0m \u001b[0;34m-\u001b[0m\u001b[0;36m1\u001b[0m\u001b[0;34m)\u001b[0m\u001b[0;34m\u001b[0m\u001b[0;34m\u001b[0m\u001b[0m\n\u001b[0;32m---> 21\u001b[0;31m     \u001b[0mgray\u001b[0m  \u001b[0;34m=\u001b[0m \u001b[0mcv2\u001b[0m\u001b[0;34m.\u001b[0m\u001b[0mcvtColor\u001b[0m\u001b[0;34m(\u001b[0m\u001b[0mimg\u001b[0m\u001b[0;34m,\u001b[0m \u001b[0mcv2\u001b[0m\u001b[0;34m.\u001b[0m\u001b[0mCOLOR_BGR2GRAY\u001b[0m\u001b[0;34m)\u001b[0m\u001b[0;34m\u001b[0m\u001b[0;34m\u001b[0m\u001b[0m\n\u001b[0m\u001b[1;32m     22\u001b[0m \u001b[0;34m\u001b[0m\u001b[0m\n\u001b[1;32m     23\u001b[0m     \u001b[0;31m#this line has to be changed\u001b[0m\u001b[0;34m\u001b[0m\u001b[0;34m\u001b[0m\u001b[0m\n",
      "\u001b[0;31merror\u001b[0m: OpenCV(4.5.5) /io/opencv/modules/imgproc/src/color.cpp:182: error: (-215:Assertion failed) !_src.empty() in function 'cvtColor'\n"
     ]
    }
   ],
   "source": [
    "#import all the required modules\n",
    "import numpy as np\n",
    "import serial\n",
    "import time\n",
    "import sys\n",
    "import cv2\n",
    "face_cascade = cv2.CascadeClassifier('haarcascade_frontalface_default.xml')\n",
    "\n",
    "\n",
    "#To capture the video stream from webcam.\n",
    "cap = cv2.VideoCapture(0)\n",
    "#Read the captured image, convert it to Gray image and find faces\n",
    "\n",
    "# this has to modified also and a lot......\n",
    "while 1:\n",
    "    ret, img = cap.read()\n",
    "    #cv2.resizeWindow('img', 500,500)\n",
    "    cv2.line(img,(500,250),(0,250),(0,255,0),1)\n",
    "    cv2.line(img,(250,0),(250,500),(0,255,0),1)\n",
    "    cv2.circle(img, (250, 250), 5, (255, 255, 255), -1)\n",
    "    gray  = cv2.cvtColor(img, cv2.COLOR_BGR2GRAY)\n",
    "    \n",
    "    #this line has to be changed\n",
    "    #faces = face_cascade.detectMultiScale(gray, 1.3)\n",
    "    \n",
    "    \n",
    "    \n",
    "    faces=[[16,16,16,16]]\n",
    "    #all else remains some\n",
    "    #detect the face and make a rectangle around it.\n",
    "    for (x,y,w,h) in faces:\n",
    "        cv2.rectangle(img,(x,y),(x+w,y+h),(0,255,0),5)\n",
    "        roi_gray  = gray[y:y+h, x:x+w]\n",
    "        roi_color = img[y:y+h, x:x+w]\n",
    "        arr = {y:y+h, x:x+w}\n",
    "        print (arr)\n",
    "        \n",
    "        print ('X :' +str(x))\n",
    "        print ('Y :'+str(y))\n",
    "        print ('x+w :' +str(x+w))\n",
    "        print ('y+h :' +str(y+h))\n",
    "# Center of roi (Rectangle)\n",
    "        xx = int(x+(x+h))/2\n",
    "        yy = int(y+(y+w))/2\n",
    "        print (xx)\n",
    "        print (yy)\n",
    "        center = (xx,yy)\n",
    "        \n",
    "#Display the stream.\n",
    "    cv2.imshow('img',img)\n",
    "#Hit 'Esc' to terminate execution \n",
    "    k = cv2.waitKey(30) & 0xff\n",
    "    if k == 27:\n",
    "        break"
   ]
  },
  {
   "cell_type": "code",
   "execution_count": 6,
   "id": "87303fd0",
   "metadata": {
    "scrolled": false
   },
   "outputs": [
    {
     "ename": "SerialException",
     "evalue": "[Errno 13] could not open port /dev/ttyACM0: [Errno 13] Permission denied: '/dev/ttyACM0'",
     "output_type": "error",
     "traceback": [
      "\u001b[0;31m---------------------------------------------------------------------------\u001b[0m",
      "\u001b[0;31mPermissionError\u001b[0m                           Traceback (most recent call last)",
      "\u001b[0;32m~/.conda/envs/ml/lib/python3.10/site-packages/serial/serialposix.py\u001b[0m in \u001b[0;36mopen\u001b[0;34m(self)\u001b[0m\n\u001b[1;32m    321\u001b[0m         \u001b[0;32mtry\u001b[0m\u001b[0;34m:\u001b[0m\u001b[0;34m\u001b[0m\u001b[0;34m\u001b[0m\u001b[0m\n\u001b[0;32m--> 322\u001b[0;31m             \u001b[0mself\u001b[0m\u001b[0;34m.\u001b[0m\u001b[0mfd\u001b[0m \u001b[0;34m=\u001b[0m \u001b[0mos\u001b[0m\u001b[0;34m.\u001b[0m\u001b[0mopen\u001b[0m\u001b[0;34m(\u001b[0m\u001b[0mself\u001b[0m\u001b[0;34m.\u001b[0m\u001b[0mportstr\u001b[0m\u001b[0;34m,\u001b[0m \u001b[0mos\u001b[0m\u001b[0;34m.\u001b[0m\u001b[0mO_RDWR\u001b[0m \u001b[0;34m|\u001b[0m \u001b[0mos\u001b[0m\u001b[0;34m.\u001b[0m\u001b[0mO_NOCTTY\u001b[0m \u001b[0;34m|\u001b[0m \u001b[0mos\u001b[0m\u001b[0;34m.\u001b[0m\u001b[0mO_NONBLOCK\u001b[0m\u001b[0;34m)\u001b[0m\u001b[0;34m\u001b[0m\u001b[0;34m\u001b[0m\u001b[0m\n\u001b[0m\u001b[1;32m    323\u001b[0m         \u001b[0;32mexcept\u001b[0m \u001b[0mOSError\u001b[0m \u001b[0;32mas\u001b[0m \u001b[0mmsg\u001b[0m\u001b[0;34m:\u001b[0m\u001b[0;34m\u001b[0m\u001b[0;34m\u001b[0m\u001b[0m\n",
      "\u001b[0;31mPermissionError\u001b[0m: [Errno 13] Permission denied: '/dev/ttyACM0'",
      "\nDuring handling of the above exception, another exception occurred:\n",
      "\u001b[0;31mSerialException\u001b[0m                           Traceback (most recent call last)",
      "\u001b[0;32m/tmp/ipykernel_2484/1001281584.py\u001b[0m in \u001b[0;36m<module>\u001b[0;34m\u001b[0m\n\u001b[1;32m      6\u001b[0m \u001b[0;32mimport\u001b[0m \u001b[0mcv2\u001b[0m\u001b[0;34m\u001b[0m\u001b[0;34m\u001b[0m\u001b[0m\n\u001b[1;32m      7\u001b[0m \u001b[0;31m#Setup Communication path for arduino (In place of 'COM5' put the port to which your arduino is connected)\u001b[0m\u001b[0;34m\u001b[0m\u001b[0;34m\u001b[0m\u001b[0m\n\u001b[0;32m----> 8\u001b[0;31m \u001b[0marduino\u001b[0m \u001b[0;34m=\u001b[0m \u001b[0mserial\u001b[0m\u001b[0;34m.\u001b[0m\u001b[0mSerial\u001b[0m\u001b[0;34m(\u001b[0m\u001b[0;34m'/dev/ttyACM0'\u001b[0m\u001b[0;34m,\u001b[0m \u001b[0;36m9600\u001b[0m\u001b[0;34m)\u001b[0m\u001b[0;34m\u001b[0m\u001b[0;34m\u001b[0m\u001b[0m\n\u001b[0m\u001b[1;32m      9\u001b[0m \u001b[0mtime\u001b[0m\u001b[0;34m.\u001b[0m\u001b[0msleep\u001b[0m\u001b[0;34m(\u001b[0m\u001b[0;36m2\u001b[0m\u001b[0;34m)\u001b[0m\u001b[0;34m\u001b[0m\u001b[0;34m\u001b[0m\u001b[0m\n\u001b[1;32m     10\u001b[0m \u001b[0mprint\u001b[0m\u001b[0;34m(\u001b[0m\u001b[0;34m\"Connected to arduino...\"\u001b[0m\u001b[0;34m)\u001b[0m\u001b[0;34m\u001b[0m\u001b[0;34m\u001b[0m\u001b[0m\n",
      "\u001b[0;32m~/.conda/envs/ml/lib/python3.10/site-packages/serial/serialutil.py\u001b[0m in \u001b[0;36m__init__\u001b[0;34m(self, port, baudrate, bytesize, parity, stopbits, timeout, xonxoff, rtscts, write_timeout, dsrdtr, inter_byte_timeout, exclusive, **kwargs)\u001b[0m\n\u001b[1;32m    242\u001b[0m \u001b[0;34m\u001b[0m\u001b[0m\n\u001b[1;32m    243\u001b[0m         \u001b[0;32mif\u001b[0m \u001b[0mport\u001b[0m \u001b[0;32mis\u001b[0m \u001b[0;32mnot\u001b[0m \u001b[0;32mNone\u001b[0m\u001b[0;34m:\u001b[0m\u001b[0;34m\u001b[0m\u001b[0;34m\u001b[0m\u001b[0m\n\u001b[0;32m--> 244\u001b[0;31m             \u001b[0mself\u001b[0m\u001b[0;34m.\u001b[0m\u001b[0mopen\u001b[0m\u001b[0;34m(\u001b[0m\u001b[0;34m)\u001b[0m\u001b[0;34m\u001b[0m\u001b[0;34m\u001b[0m\u001b[0m\n\u001b[0m\u001b[1;32m    245\u001b[0m \u001b[0;34m\u001b[0m\u001b[0m\n\u001b[1;32m    246\u001b[0m     \u001b[0;31m#  -  -  -  -  -  -  -  -  -  -  -  -  -  -  -  -  -  -  -  -  -  -  -  -\u001b[0m\u001b[0;34m\u001b[0m\u001b[0;34m\u001b[0m\u001b[0m\n",
      "\u001b[0;32m~/.conda/envs/ml/lib/python3.10/site-packages/serial/serialposix.py\u001b[0m in \u001b[0;36mopen\u001b[0;34m(self)\u001b[0m\n\u001b[1;32m    323\u001b[0m         \u001b[0;32mexcept\u001b[0m \u001b[0mOSError\u001b[0m \u001b[0;32mas\u001b[0m \u001b[0mmsg\u001b[0m\u001b[0;34m:\u001b[0m\u001b[0;34m\u001b[0m\u001b[0;34m\u001b[0m\u001b[0m\n\u001b[1;32m    324\u001b[0m             \u001b[0mself\u001b[0m\u001b[0;34m.\u001b[0m\u001b[0mfd\u001b[0m \u001b[0;34m=\u001b[0m \u001b[0;32mNone\u001b[0m\u001b[0;34m\u001b[0m\u001b[0;34m\u001b[0m\u001b[0m\n\u001b[0;32m--> 325\u001b[0;31m             \u001b[0;32mraise\u001b[0m \u001b[0mSerialException\u001b[0m\u001b[0;34m(\u001b[0m\u001b[0mmsg\u001b[0m\u001b[0;34m.\u001b[0m\u001b[0merrno\u001b[0m\u001b[0;34m,\u001b[0m \u001b[0;34m\"could not open port {}: {}\"\u001b[0m\u001b[0;34m.\u001b[0m\u001b[0mformat\u001b[0m\u001b[0;34m(\u001b[0m\u001b[0mself\u001b[0m\u001b[0;34m.\u001b[0m\u001b[0m_port\u001b[0m\u001b[0;34m,\u001b[0m \u001b[0mmsg\u001b[0m\u001b[0;34m)\u001b[0m\u001b[0;34m)\u001b[0m\u001b[0;34m\u001b[0m\u001b[0;34m\u001b[0m\u001b[0m\n\u001b[0m\u001b[1;32m    326\u001b[0m         \u001b[0;31m#~ fcntl.fcntl(self.fd, fcntl.F_SETFL, 0)  # set blocking\u001b[0m\u001b[0;34m\u001b[0m\u001b[0;34m\u001b[0m\u001b[0m\n\u001b[1;32m    327\u001b[0m \u001b[0;34m\u001b[0m\u001b[0m\n",
      "\u001b[0;31mSerialException\u001b[0m: [Errno 13] could not open port /dev/ttyACM0: [Errno 13] Permission denied: '/dev/ttyACM0'"
     ]
    }
   ],
   "source": [
    "#import all the required modules\n",
    "import numpy as np\n",
    "import serial\n",
    "import time\n",
    "import sys\n",
    "import cv2ard\n",
    "#Setup Communication path for arduino (In place of 'COM5' put the port to which your arduino is connected)\n",
    "arduino = serial.Serial('/dev/ttyACM0', 9600) \n",
    "time.sleep(2)\n",
    "print(\"Connected to arduino...\")\n",
    "\n",
    "\n",
    "#this has to be replaced by something ????????\n",
    "#importing the Haarcascade for face detection\n",
    "#face_cascade = cv2.CascadeClassifier('haarcascade_frontalface_default.xml')\n",
    "\n",
    "\n",
    "#To capture the video stream from webcam.\n",
    "cap = cv2.VideoCapture(0)\n",
    "#Read the captured image, convert it to Gray image and find faces\n",
    "\n",
    "# this has to modified also and a lot......\n",
    "while 1:\n",
    "    ret, img = cap.read()\n",
    "    #cv2.resizeWindow('img', 500,500)\n",
    "    cv2.line(img,(500,250),(0,250),(0,255,0),1)\n",
    "    cv2.line(img,(250,0),(250,500),(0,255,0),1)\n",
    "    cv2.circle(img, (250, 250), 5, (255, 255, 255), -1)\n",
    "    gray  = cv2.cvtColor(img, cv2.COLOR_BGR2GRAY)\n",
    "    \n",
    "    #this line has to be changed\n",
    "    faces = face_cascade.detectMultiScale(gray, 1.3)\n",
    "    \n",
    "    #all else remains some\n",
    "    #detect the face and make a rectangle around it.\n",
    "    for (x,y,w,h) in faces:\n",
    "        cv2.rectangle(img,(x,y),(x+w,y+h),(0,255,0),5)\n",
    "        roi_gray  = gray[y:y+h, x:x+w]\n",
    "        roi_color = img[y:y+h, x:x+w]\n",
    "        arr = {y:y+h, x:x+w}\n",
    "        print (arr)\n",
    "        \n",
    "        print ('X :' +str(x))\n",
    "        print ('Y :'+str(y))\n",
    "        print ('x+w :' +str(x+w))\n",
    "        print ('y+h :' +str(y+h))\n",
    "# Center of roi (Rectangle)\n",
    "        xx = int(x+(x+h))/2\n",
    "        yy = int(y+(y+w))/2\n",
    "        print (xx)\n",
    "        print (yy)\n",
    "        center = (xx,yy)\n",
    "# sending data to arduino\n",
    "        print(\"Center of Rectangle is :\", center)\n",
    "        data = \"X{0:d}Y{1:d}Z\".format(xx, yy)\n",
    "        print (\"output = '\" +data+ \"'\")\n",
    "        arduino.write(data)\n",
    "#Display the stream.\n",
    "    cv2.imshow('img',img)\n",
    "#Hit 'Esc' to terminate execution \n",
    "    k = cv2.waitKey(30) & 0xff\n",
    "    if k == 27:\n",
    "        break\n",
    "\n"
   ]
  },
  {
   "cell_type": "code",
   "execution_count": 3,
   "id": "f4a05459",
   "metadata": {},
   "outputs": [
    {
     "name": "stdout",
     "output_type": "stream",
     "text": [
      "Connected to arduino...\n"
     ]
    }
   ],
   "source": [
    "#import all the required modules\n",
    "import numpy as np\n",
    "import serial\n",
    "import time\n",
    "import sys\n",
    "#import cv2\n",
    "#Setup Communication path for arduino (In place of 'COM5' put the port to which your arduino is connected)\n",
    "arduino = serial.Serial('/dev/ttyACM0', 9600) \n",
    "time.sleep(2)\n",
    "print(\"Connected to arduino...\")"
   ]
  },
  {
   "cell_type": "code",
   "execution_count": null,
   "id": "9c2898d3",
   "metadata": {},
   "outputs": [],
   "source": []
  },
  {
   "cell_type": "code",
   "execution_count": 40,
   "id": "5e14c050",
   "metadata": {},
   "outputs": [],
   "source": [
    "face_cascade = cv2.CascadeClassifier('haarcascade_frontalface_default.xml')\n"
   ]
  },
  {
   "cell_type": "code",
   "execution_count": 48,
   "id": "102a629e",
   "metadata": {},
   "outputs": [
    {
     "name": "stdout",
     "output_type": "stream",
     "text": [
      "\u001b[0m\u001b[01;34mArduino\u001b[0m/\r\n"
     ]
    }
   ],
   "source": [
    "ls"
   ]
  },
  {
   "cell_type": "code",
   "execution_count": 45,
   "id": "d1bbd4e0",
   "metadata": {},
   "outputs": [
    {
     "name": "stdout",
     "output_type": "stream",
     "text": [
      "<CascadeClassifier 0x7f06a7ec65f0>\n"
     ]
    }
   ],
   "source": []
  },
  {
   "cell_type": "markdown",
   "id": "a9872ba8",
   "metadata": {},
   "source": [
    "## below code goes to ardiuno without any changes\n",
    "```c\n",
    "#include<servo.h>\n",
    "Servo servoVer; //Vertical Servo\n",
    "Servo servoHor; //Horizontal Servo\n",
    "int x;\n",
    "int y;\n",
    "int prevX;\n",
    "int prevY;\n",
    "void setup()\n",
    "{\n",
    "  Serial.begin(9600);\n",
    "  servoVer.attach(5); //Attach Vertical Servo to Pin 5\n",
    "  servoHor.attach(6); //Attach Horizontal Servo to Pin 6\n",
    "  servoVer.write(90);\n",
    "  servoHor.write(90);\n",
    "}\n",
    "void Pos()\n",
    "{\n",
    "  if(prevX != x || prevY != y)\n",
    "  {\n",
    "    int servoX = map(x, 600, 0, 70, 179);\n",
    "    int servoY = map(y, 450, 0, 179, 95);\n",
    "    servoX = min(servoX, 179);\n",
    "    servoX = max(servoX, 70);\n",
    "    servoY = min(servoY, 179);\n",
    "    servoY = max(servoY, 95);\n",
    "    \n",
    "    servoHor.write(servoX);\n",
    "    servoVer.write(servoY);\n",
    "  }\n",
    "}\n",
    "void loop()\n",
    "{\n",
    "  if(Serial.available() > 0)\n",
    "  {\n",
    "    if(Serial.read() == 'X')\n",
    "    {\n",
    "      x = Serial.parseInt();\n",
    "      if(Serial.read() == 'Y')\n",
    "      {\n",
    "        y = Serial.parseInt();\n",
    "       Pos();\n",
    "      }\n",
    "    }\n",
    "    while(Serial.available() > 0)\n",
    "    {\n",
    "      Serial.read();\n",
    "    }\n",
    "  }\n",
    "}\n",
    "```"
   ]
  },
  {
   "cell_type": "code",
   "execution_count": 36,
   "id": "33e7df81",
   "metadata": {},
   "outputs": [],
   "source": [
    "import serial\n",
    "import time\n",
    "import sys"
   ]
  },
  {
   "cell_type": "code",
   "execution_count": 38,
   "id": "f98ea2de",
   "metadata": {
    "scrolled": true
   },
   "outputs": [],
   "source": [
    "arduino = serial.Serial('/dev/ttyACM1',9600)"
   ]
  },
  {
   "cell_type": "code",
   "execution_count": 26,
   "id": "d6e539ca",
   "metadata": {},
   "outputs": [
    {
     "name": "stdout",
     "output_type": "stream",
     "text": [
      "/root\n"
     ]
    }
   ],
   "source": [
    "cd"
   ]
  },
  {
   "cell_type": "code",
   "execution_count": null,
   "id": "3f9cb022",
   "metadata": {},
   "outputs": [],
   "source": []
  },
  {
   "cell_type": "code",
   "execution_count": 6,
   "id": "6c12ad37",
   "metadata": {},
   "outputs": [
    {
     "name": "stdout",
     "output_type": "stream",
     "text": [
      "Center of Rectangle is : (1, 0)\n",
      "output = 'X1Y0Z'\n"
     ]
    },
    {
     "data": {
      "text/plain": [
       "5"
      ]
     },
     "execution_count": 6,
     "metadata": {},
     "output_type": "execute_result"
    }
   ],
   "source": [
    "xx=1\n",
    "yy=0\n",
    "center = (xx,yy)\n",
    "\n",
    "print(\"Center of Rectangle is :\", center)\n",
    "\n",
    "center = (xx,yy)\n",
    "data = \"X{0:d}Y{1:d}Z\".format(xx, yy)\n",
    "print (\"output = '\" +data+ \"'\")\n",
    "arduino.write(data.encode())"
   ]
  },
  {
   "cell_type": "code",
   "execution_count": 12,
   "id": "cfb68007",
   "metadata": {},
   "outputs": [
    {
     "data": {
      "text/plain": [
       "9"
      ]
     },
     "execution_count": 12,
     "metadata": {},
     "output_type": "execute_result"
    }
   ],
   "source": [
    "arduino.write(str.encode('X100Y000Z'))"
   ]
  },
  {
   "cell_type": "code",
   "execution_count": null,
   "id": "1758295d",
   "metadata": {},
   "outputs": [],
   "source": []
  }
 ],
 "metadata": {
  "kernelspec": {
   "display_name": "Python 3 (ipykernel)",
   "language": "python",
   "name": "python3"
  },
  "language_info": {
   "codemirror_mode": {
    "name": "ipython",
    "version": 3
   },
   "file_extension": ".py",
   "mimetype": "text/x-python",
   "name": "python",
   "nbconvert_exporter": "python",
   "pygments_lexer": "ipython3",
   "version": "3.10.0"
  }
 },
 "nbformat": 4,
 "nbformat_minor": 5
}
